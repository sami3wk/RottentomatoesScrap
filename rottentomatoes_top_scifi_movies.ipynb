{
 "cells": [
  {
   "cell_type": "code",
   "execution_count": 38,
   "id": "0e9425cc",
   "metadata": {},
   "outputs": [],
   "source": [
    "from bs4 import BeautifulSoup\n",
    "from requests import get\n",
    "from re import sub"
   ]
  },
  {
   "cell_type": "code",
   "execution_count": 39,
   "id": "4fb5afcb",
   "metadata": {},
   "outputs": [],
   "source": [
    "url = \"https://www.rottentomatoes.com/top/bestofrt/top_100_science_fiction__fantasy_movies/\""
   ]
  },
  {
   "cell_type": "code",
   "execution_count": 40,
   "id": "6a204c25",
   "metadata": {},
   "outputs": [],
   "source": [
    "A = get(url).content"
   ]
  },
  {
   "cell_type": "code",
   "execution_count": 41,
   "id": "a7b62e27",
   "metadata": {},
   "outputs": [],
   "source": [
    "soup = BeautifulSoup(A,\"html.parser\")"
   ]
  },
  {
   "cell_type": "code",
   "execution_count": 42,
   "id": "e41c116e",
   "metadata": {},
   "outputs": [],
   "source": [
    "soup1 = soup.find(\"table\",class_=\"table\")"
   ]
  },
  {
   "cell_type": "code",
   "execution_count": 43,
   "id": "b0f3b474",
   "metadata": {},
   "outputs": [],
   "source": [
    "title = []\n",
    "for i in soup1.find_all(\"a\",class_ =\"unstyled articleLink\"):\n",
    "    i = i.text\n",
    "    i = sub(\"[^0-9a-zA-Z.() ]\",\"\",i)\n",
    "    i = i.strip()\n",
    "    title.append(i)"
   ]
  },
  {
   "cell_type": "code",
   "execution_count": 44,
   "id": "2b514556",
   "metadata": {},
   "outputs": [],
   "source": [
    "tomato_meter = []\n",
    "for i in soup1.find_all(\"span\",class_ =\"tMeterScore\"):\n",
    "    i = i.text\n",
    "    i = sub(\"[^0-9a-zA-Z.() ]\",\"\",i)\n",
    "    i = int(i)\n",
    "    tomato_meter.append(i)"
   ]
  },
  {
   "cell_type": "code",
   "execution_count": 45,
   "id": "8451d226",
   "metadata": {},
   "outputs": [],
   "source": [
    "no_reviews = []\n",
    "for i in soup1.find_all(\"td\",class_ =\"right hidden-xs\"):\n",
    "    i = i.text\n",
    "    i = sub(\"[^0-9a-zA-Z.() ]\",\"\",i)\n",
    "    i =  int(i)\n",
    "    no_reviews.append(i)"
   ]
  },
  {
   "cell_type": "code",
   "execution_count": 46,
   "id": "3ad2cc5e",
   "metadata": {},
   "outputs": [],
   "source": [
    "from pandas import DataFrame\n",
    "A = DataFrame([title,tomato_meter,no_reviews]).T\n",
    "A.columns = [\"Movie Title\",\"Tomato Meter\",\"No. of Reviews\"]"
   ]
  },
  {
   "cell_type": "code",
   "execution_count": 47,
   "id": "853c7265",
   "metadata": {},
   "outputs": [
    {
     "data": {
      "text/html": [
       "<div>\n",
       "<style scoped>\n",
       "    .dataframe tbody tr th:only-of-type {\n",
       "        vertical-align: middle;\n",
       "    }\n",
       "\n",
       "    .dataframe tbody tr th {\n",
       "        vertical-align: top;\n",
       "    }\n",
       "\n",
       "    .dataframe thead th {\n",
       "        text-align: right;\n",
       "    }\n",
       "</style>\n",
       "<table border=\"1\" class=\"dataframe\">\n",
       "  <thead>\n",
       "    <tr style=\"text-align: right;\">\n",
       "      <th></th>\n",
       "      <th>Movie Title</th>\n",
       "      <th>Tomato Meter</th>\n",
       "      <th>No. of Reviews</th>\n",
       "    </tr>\n",
       "  </thead>\n",
       "  <tbody>\n",
       "    <tr>\n",
       "      <th>0</th>\n",
       "      <td>The Wizard of Oz (1939)</td>\n",
       "      <td>98</td>\n",
       "      <td>160</td>\n",
       "    </tr>\n",
       "    <tr>\n",
       "      <th>1</th>\n",
       "      <td>Black Panther (2018)</td>\n",
       "      <td>96</td>\n",
       "      <td>525</td>\n",
       "    </tr>\n",
       "    <tr>\n",
       "      <th>2</th>\n",
       "      <td>Avengers Endgame (2019)</td>\n",
       "      <td>94</td>\n",
       "      <td>547</td>\n",
       "    </tr>\n",
       "    <tr>\n",
       "      <th>3</th>\n",
       "      <td>Toy Story 4 (2019)</td>\n",
       "      <td>97</td>\n",
       "      <td>453</td>\n",
       "    </tr>\n",
       "    <tr>\n",
       "      <th>4</th>\n",
       "      <td>Mad Max Fury Road (2015)</td>\n",
       "      <td>97</td>\n",
       "      <td>434</td>\n",
       "    </tr>\n",
       "    <tr>\n",
       "      <th>...</th>\n",
       "      <td>...</td>\n",
       "      <td>...</td>\n",
       "      <td>...</td>\n",
       "    </tr>\n",
       "    <tr>\n",
       "      <th>95</th>\n",
       "      <td>The Hunger Games Catching Fire (2013)</td>\n",
       "      <td>90</td>\n",
       "      <td>293</td>\n",
       "    </tr>\n",
       "    <tr>\n",
       "      <th>96</th>\n",
       "      <td>Young Frankenstein (1974)</td>\n",
       "      <td>94</td>\n",
       "      <td>69</td>\n",
       "    </tr>\n",
       "    <tr>\n",
       "      <th>97</th>\n",
       "      <td>The Lord of the Rings The Return of the King (...</td>\n",
       "      <td>93</td>\n",
       "      <td>275</td>\n",
       "    </tr>\n",
       "    <tr>\n",
       "      <th>98</th>\n",
       "      <td>Brazil (1985)</td>\n",
       "      <td>98</td>\n",
       "      <td>49</td>\n",
       "    </tr>\n",
       "    <tr>\n",
       "      <th>99</th>\n",
       "      <td>Babe (1995)</td>\n",
       "      <td>97</td>\n",
       "      <td>70</td>\n",
       "    </tr>\n",
       "  </tbody>\n",
       "</table>\n",
       "<p>100 rows × 3 columns</p>\n",
       "</div>"
      ],
      "text/plain": [
       "                                          Movie Title Tomato Meter  \\\n",
       "0                             The Wizard of Oz (1939)           98   \n",
       "1                                Black Panther (2018)           96   \n",
       "2                             Avengers Endgame (2019)           94   \n",
       "3                                  Toy Story 4 (2019)           97   \n",
       "4                            Mad Max Fury Road (2015)           97   \n",
       "..                                                ...          ...   \n",
       "95              The Hunger Games Catching Fire (2013)           90   \n",
       "96                          Young Frankenstein (1974)           94   \n",
       "97  The Lord of the Rings The Return of the King (...           93   \n",
       "98                                      Brazil (1985)           98   \n",
       "99                                        Babe (1995)           97   \n",
       "\n",
       "   No. of Reviews  \n",
       "0             160  \n",
       "1             525  \n",
       "2             547  \n",
       "3             453  \n",
       "4             434  \n",
       "..            ...  \n",
       "95            293  \n",
       "96             69  \n",
       "97            275  \n",
       "98             49  \n",
       "99             70  \n",
       "\n",
       "[100 rows x 3 columns]"
      ]
     },
     "execution_count": 47,
     "metadata": {},
     "output_type": "execute_result"
    }
   ],
   "source": [
    "A"
   ]
  },
  {
   "cell_type": "code",
   "execution_count": null,
   "id": "23255c57",
   "metadata": {},
   "outputs": [],
   "source": []
  }
 ],
 "metadata": {
  "kernelspec": {
   "display_name": "Python 3 (ipykernel)",
   "language": "python",
   "name": "python3"
  },
  "language_info": {
   "codemirror_mode": {
    "name": "ipython",
    "version": 3
   },
   "file_extension": ".py",
   "mimetype": "text/x-python",
   "name": "python",
   "nbconvert_exporter": "python",
   "pygments_lexer": "ipython3",
   "version": "3.8.11"
  }
 },
 "nbformat": 4,
 "nbformat_minor": 5
}
